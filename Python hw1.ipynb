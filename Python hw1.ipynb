{
 "cells": [
  {
   "cell_type": "code",
   "execution_count": 1,
   "metadata": {},
   "outputs": [
    {
     "name": "stdout",
     "output_type": "stream",
     "text": [
      "[1, 2, 3, 4, 5, 6, 7, 8, 9, 10, 11, 12, 13, 14, 15, 16, 17, 18, 19, 20]\n"
     ]
    }
   ],
   "source": [
    "print([i for i in range(1,21)])"
   ]
  },
  {
   "cell_type": "code",
   "execution_count": 13,
   "metadata": {},
   "outputs": [
    {
     "name": "stdout",
     "output_type": "stream",
     "text": [
      "[20, 19, 18, 17, 16, 15, 14, 13, 12, 11, 10, 9, 8, 7, 6, 5, 4, 3, 2, 1]\n"
     ]
    }
   ],
   "source": [
    "print([i for i in range(20,0,-1)])"
   ]
  },
  {
   "cell_type": "code",
   "execution_count": 15,
   "metadata": {},
   "outputs": [
    {
     "name": "stdout",
     "output_type": "stream",
     "text": [
      "[1, 2, 3, 4, 5, 6, 7, 8, 9, 10, 11, 12, 13, 14, 15, 16, 17, 18, 19, 20, 19, 18, 17, 16, 15, 14, 13, 12, 11, 10, 9, 8, 7, 6, 5, 4, 3, 2, 1]\n"
     ]
    }
   ],
   "source": [
    "print([i for i in range(1,21)] + [i for i in range(19,0,-1)])"
   ]
  },
  {
   "cell_type": "code",
   "execution_count": 19,
   "metadata": {},
   "outputs": [
    {
     "name": "stdout",
     "output_type": "stream",
     "text": [
      "[4, 6, 3, 4, 6, 3, 4, 6, 3, 4, 6, 3, 4, 6, 3, 4, 6, 3, 4, 6, 3, 4, 6, 3, 4, 6, 3, 4, 6, 3]\n"
     ]
    }
   ],
   "source": [
    "print([4,6,3] * 10)"
   ]
  },
  {
   "cell_type": "code",
   "execution_count": 31,
   "metadata": {},
   "outputs": [
    {
     "name": "stdout",
     "output_type": "stream",
     "text": [
      "[4, 6, 3, 4, 6, 3, 4, 6, 3, 4, 6, 3, 4, 6, 3, 4, 6, 3, 4, 6, 3, 4, 6, 3, 4, 6, 3, 4]\n"
     ]
    }
   ],
   "source": [
    "a = ([4,6,3] * 10)\n",
    "del a[-2:]\n",
    "print(a)"
   ]
  },
  {
   "cell_type": "code",
   "execution_count": 38,
   "metadata": {},
   "outputs": [
    {
     "data": {
      "text/plain": [
       "{3.0: -19.884530844146987,\n",
       " 3.1: -22.178753389342127,\n",
       " 3.2: -24.490696732801293,\n",
       " 3.3000000000000003: -26.77318244299339,\n",
       " 3.4000000000000004: -28.96923776809358,\n",
       " 3.5000000000000004: -31.011186439374526,\n",
       " 3.6000000000000005: -32.81977476033852,\n",
       " 3.7000000000000006: -34.30336011037369,\n",
       " 3.8000000000000007: -35.35719361853037,\n",
       " 3.900000000000001: -35.862833712307676,\n",
       " 4.000000000000001: -35.68773248011913,\n",
       " 4.100000000000001: -34.685042251668044,\n",
       " 4.200000000000001: -32.693695428321725,\n",
       " 4.300000000000001: -29.538816297262944,\n",
       " 4.400000000000001: -25.032529229039913,\n",
       " 4.500000000000002: -18.975233154958836,\n",
       " 4.600000000000001: -11.157417389647321,\n",
       " 4.700000000000001: -1.3620985182056538,\n",
       " 4.800000000000002: 10.632038010192232,\n",
       " 4.900000000000002: 25.046704998273285,\n",
       " 5.000000000000002: 42.09920106253872,\n",
       " 5.100000000000001: 61.99663027669492,\n",
       " 5.200000000000002: 84.92906736250312,\n",
       " 5.3000000000000025: 111.06158604202653,\n",
       " 5.400000000000002: 140.52507505278805,\n",
       " 5.500000000000002: 173.40577640857796,\n",
       " 5.600000000000002: 209.7334942478357,\n",
       " 5.700000000000003: 249.4684405588578,\n",
       " 5.8000000000000025: 292.4867067371234,\n",
       " 5.900000000000002: 338.56437785851256,\n",
       " 6.000000000000003: 387.36034029093213}"
      ]
     },
     "execution_count": 38,
     "metadata": {},
     "output_type": "execute_result"
    }
   ],
   "source": [
    "import math\n",
    "import numpy as np\n",
    "d = dict()\n",
    "for i in np.arange(3,6.1,0.1):\n",
    "    d[i] = math.exp(i)*math.cos(i)\n",
    "d"
   ]
  },
  {
   "cell_type": "code",
   "execution_count": 40,
   "metadata": {},
   "outputs": [
    {
     "data": {
      "text/plain": [
       "{1: 2.0,\n",
       " 2: 2.0,\n",
       " 3: 2.6666666666666665,\n",
       " 4: 4.0,\n",
       " 5: 6.4,\n",
       " 6: 10.666666666666666,\n",
       " 7: 18.285714285714285,\n",
       " 8: 32.0,\n",
       " 9: 56.888888888888886,\n",
       " 10: 102.4,\n",
       " 11: 186.1818181818182,\n",
       " 12: 341.3333333333333,\n",
       " 13: 630.1538461538462,\n",
       " 14: 1170.2857142857142,\n",
       " 15: 2184.5333333333333,\n",
       " 16: 4096.0,\n",
       " 17: 7710.117647058823,\n",
       " 18: 14563.555555555555,\n",
       " 19: 27594.105263157893,\n",
       " 20: 52428.8,\n",
       " 21: 99864.38095238095,\n",
       " 22: 190650.18181818182,\n",
       " 23: 364722.0869565217,\n",
       " 24: 699050.6666666666,\n",
       " 25: 1342177.28}"
      ]
     },
     "execution_count": 40,
     "metadata": {},
     "output_type": "execute_result"
    }
   ],
   "source": [
    "d = dict()\n",
    "for i in range(1,26,1):\n",
    "    d[i] = 2**i/i\n",
    "d"
   ]
  },
  {
   "cell_type": "code",
   "execution_count": 63,
   "metadata": {},
   "outputs": [
    {
     "name": "stdout",
     "output_type": "stream",
     "text": [
      "[-19 -17 -15 -13 -11  -9  -7  -5  -3  -1   1   3   5   7   9  11  13  15\n",
      "  17  19]\n"
     ]
    }
   ],
   "source": [
    "print(np.array([i for i in range(1,21)]) - np.array([i for i in range(20,0,-1)]))"
   ]
  },
  {
   "cell_type": "code",
   "execution_count": 76,
   "metadata": {},
   "outputs": [
    {
     "name": "stdout",
     "output_type": "stream",
     "text": [
      "False\n",
      "True\n",
      "False\n",
      "True\n",
      "False\n",
      "True\n",
      "False\n",
      "True\n",
      "False\n",
      "True\n",
      "False\n",
      "True\n",
      "False\n",
      "True\n",
      "False\n",
      "True\n",
      "False\n",
      "True\n",
      "False\n",
      "True\n"
     ]
    }
   ],
   "source": [
    "l=[]\n",
    "for i in range(1, 21):\n",
    "    if i % 2 == 0:\n",
    "        print(True)\n",
    "    else:\n",
    "        print(False)"
   ]
  },
  {
   "cell_type": "code",
   "execution_count": 131,
   "metadata": {},
   "outputs": [
    {
     "data": {
      "text/plain": [
       "'Lorem ipsum dolor sit amet, consectetur adipiscing elit. Proin in turpis ligula. Aenean eu ante ut mauris hendrerit tempus. Aenean posuere pellentesque scelerisque. Proin vel ligula sagittis, accumsan libero in, auctor velit. Donec faucibus pellentesque urna hendrerit efficitur. Vestibulum efficitur metus ac enim sodales, ac feugiat quam pretium. Proin ex massa, ornare in rutrum quis, tristique sed mi. Pellentesque habitant morbi tristique senectus et netus et malesuada fames ac turpis egestas. Orci varius natoque penatibus et magnis dis parturient montes, nascetur ridiculus mus. Nullam eget eros et diam feugiat ultricies accumsan vitae odio. Nunc dignissim tincidunt lorem a suscipit. Morbi mollis lacus tortor.\\n\\nProin vitae tempor lorem, at egestas felis. Curabitur sit amet tincidunt augue. Vestibulum in rhoncus tellus. Ut elit velit, blandit id pharetra vitae, varius at turpis. Quisque hendrerit vulputate neque, eget venenatis dui pellentesque at. Donec ultrices aliquet tortor, sit amet laoreet metus euismod et. Pellentesque at consequat odio, eu volutpat nibh. Etiam turpis nisl, commodo pretium magna vitae, molestie facilisis mi. Quisque sit amet auctor augue. Ut at est et nibh congue posuere. Ut et nulla felis. Vestibulum sed quam tortor. Nam molestie mauris odio, vel malesuada nibh faucibus vel. Donec tincidunt at erat sit amet gravida.\\n\\nCras in efficitur lorem, at egestas erat. Mauris tellus ligula, viverra eu sem eu, mattis elementum lacus. Suspendisse in mauris sit amet nunc pellentesque rutrum ut sed nibh. Suspendisse varius arcu eget tempus pharetra. Etiam eleifend, metus vitae condimentum gravida, tellus dolor efficitur sapien, ut dictum libero tellus vitae leo. Nunc quis lectus in diam volutpat auctor id ut metus. Nulla porta ex a orci sagittis rhoncus sed ut nulla.\\n\\nVestibulum ante ipsum primis in faucibus orci luctus et ultrices posuere cubilia Curae; Morbi mi sem, vestibulum ut tempor sed, eleifend eget arcu. Integer lobortis fermentum quam, id pulvinar justo ornare id. Vestibulum a tempor dui, non suscipit tellus. Quisque luctus rhoncus erat, a malesuada purus porta quis. Ut interdum eu mauris ut mattis. Curabitur scelerisque est risus, in dapibus metus fermentum in. Donec pulvinar risus eget quam viverra, pharetra cursus erat aliquam. Aenean diam quam, condimentum et nunc non, semper consequat tortor. Vestibulum posuere feugiat leo posuere imperdiet. Nunc vel ipsum odio.\\n\\nQuisque quis enim magna. Aliquam molestie elit eget fermentum pharetra. Sed lobortis scelerisque laoreet. Nulla eget mi diam. Donec eget ligula luctus, egestas augue ac, dictum mi. Praesent ornare augue lorem, ut pellentesque dui consectetur sed. Cras dolor velit, pretium vitae elit et, rutrum sagittis nunc. Cras quam ipsum, mattis at dapibus posuere, ornare at tellus. Vivamus quis mauris in lectus molestie euismod feugiat semper est. Pellentesque aliquet orci ut velit sagittis, nec sodales enim dapibus. Integer fermentum ipsum ipsum, nec pretium turpis sagittis nec. Praesent rutrum neque ut nisl sollicitudin, vitae placerat dui lobortis. Ut lacinia nulla eu hendrerit volutpat.\\n\\nIn malesuada cursus ante, eu sodales augue mattis eu. Class aptent taciti sociosqu ad litora torquent per conubia nostra, per inceptos himenaeos. Mauris nec vestibulum justo. Vivamus et neque vel justo scelerisque vehicula. Pellentesque molestie, urna consectetur gravida facilisis, odio ligula accumsan justo, et viverra eros purus a sapien. Praesent rutrum dictum odio et viverra. Suspendisse mollis ex id augue ullamcorper vulputate. Aenean a dapibus ante, eu suscipit augue.\\n\\nEtiam non blandit neque, ut dictum diam. Praesent tincidunt metus non est gravida elementum eget id leo. Etiam nec lacus nec nisl egestas rhoncus. In vitae lectus nibh. Integer sed mollis tortor. Sed commodo aliquam viverra. Praesent nulla dolor, aliquet eu bibendum sed, viverra eu felis. Etiam a mattis felis. Ut eros sem, egestas ut nisl at, gravida porttitor lacus. Cras viverra et tortor et aliquet. Maecenas vitae convallis magna, faucibus tempus sem. Nulla at fermentum nibh. Vestibulum a metus imperdiet lacus luctus feugiat et ac lacus. Quisque scelerisque dolor eu ligula ultrices, sed sagittis enim efficitur.\\n\\nSed quis magna non mi efficitur egestas. Integer eget diam sed justo sagittis porttitor. Phasellus suscipit est et aliquam porttitor. Nunc dui sem, dapibus cursus sagittis tempor, cursus in dui. Nulla vestibulum risus sed ex luctus, sit amet vehicula dolor blandit. Aenean consectetur pulvinar lorem, non tempor tellus egestas quis. Praesent pretium nibh ac lacus laoreet eleifend. Praesent nec urna faucibus, blandit purus eu, tincidunt ligula. Suspendisse sed lobortis dolor. Nunc tempus faucibus ex, sed efficitur sapien ultricies id. Ut nec ornare nulla. Fusce posuere facilisis sem. Ut efficitur, lectus non sagittis viverra, dui nisi porttitor elit, non vulputate magna nunc ac ligula. Aenean blandit, risus gravida venenatis feugiat, ex neque feugiat lectus, eget consequat nisi tellus et leo. In lobortis ipsum turpis, sit amet mollis eros sodales ut.\\n\\nMauris lorem ex, porttitor at velit eget, rutrum sollicitudin elit. Pellentesque at orci vulputate, ultricies tortor eget, egestas diam. Fusce commodo, massa in fermentum pretium, lacus urna consequat enim, ac volutpat ligula sem vel justo. Donec efficitur metus tortor. Etiam pharetra ligula eu pretium dignissim. Praesent aliquam, dolor at euismod congue, metus tellus facilisis dui, eget vulputate turpis mi sed elit. Vivamus id sollicitudin tellus, a ullamcorper enim. Vivamus vitae urna nunc. Proin gravida urna dictum nisi dictum, id ullamcorper diam pretium. Suspendisse ultricies lobortis semper. Sed felis odio, ultricies vitae lobortis non, aliquam vitae lorem.\\n\\nNam scelerisque diam ante, sed scelerisque risus placerat id. Suspendisse id erat nulla. Nulla facilisi. Nulla facilisi. Etiam volutpat est a augue mattis volutpat. Proin feugiat augue vel sem accumsan, eu congue mi fermentum. Etiam eget ornare sem, nec consectetur tellus. Vivamus porta egestas mattis. Vestibulum ante ipsum primis in faucibus orci luctus et ultrices posuere cubilia Curae; Curabitur tempor dignissim urna a rutrum. Sed a iaculis ex. Duis ex felis, dictum nec vehicula eget, egestas at eros. Interdum et malesuada fames ac ante ipsum primis in faucibus. Proin vitae tortor libero. Phasellus eleifend mollis odio, ut pellentesque justo ullamcorper in.\\n\\nQuisque nec augue eget est rhoncus volutpat nec eu massa. Morbi ac erat dui. Sed facilisis sem nisl, sit amet vestibulum lacus dignissim semper. Integer dignissim dolor sed sagittis luctus. Aenean sit amet nisl sed ipsum blandit scelerisque. Aenean a lectus ut purus. '"
      ]
     },
     "execution_count": 131,
     "metadata": {},
     "output_type": "execute_result"
    }
   ],
   "source": [
    "textfile = open(\"lorem.txt\", 'r')\n",
    "filetext = textfile.read()\n",
    "textfile.close()\n",
    "textfile\n",
    "filetext"
   ]
  },
  {
   "cell_type": "code",
   "execution_count": 158,
   "metadata": {},
   "outputs": [
    {
     "name": "stdout",
     "output_type": "stream",
     "text": [
      "276\n",
      "363\n",
      "184\n"
     ]
    }
   ],
   "source": [
    "import re\n",
    "pattern = re.compile('\\s\\w{1,4}[,.]?\\s')\n",
    "pattern2 = re.compile('\\s\\w{4,7}[,.]?\\s')\n",
    "pattern3 = re.compile('\\s\\w{8,}[,.]?\\s')\n",
    "a = pattern.findall(filetext)\n",
    "b = pattern2.findall(filetext)\n",
    "c = pattern3.findall(filetext)\n",
    "if len(a)!=0:\n",
    "    print(len(a))\n",
    "if len(b)!=0:\n",
    "    print(len(b))\n",
    "if len(c)!=0:\n",
    "    print(len(c))"
   ]
  },
  {
   "cell_type": "code",
   "execution_count": 160,
   "metadata": {},
   "outputs": [],
   "source": [
    "import re\n",
    "pattern = re.compile('\\s[A-Z]+\\s')\n",
    "a = pattern.findall(filetext)\n",
    "if len(a)!=0:\n",
    "    print(len(a))"
   ]
  },
  {
   "cell_type": "code",
   "execution_count": 118,
   "metadata": {},
   "outputs": [],
   "source": [
    "import re\n",
    "pattern = re.compile(\"<(\\d{4,5})>\")\n",
    "\n",
    "for i, line in enumerate(open('lorem.txt')):\n",
    "    for match in re.finditer(pattern, line):\n",
    "        print ('(i+1, match.group())')"
   ]
  },
  {
   "cell_type": "code",
   "execution_count": null,
   "metadata": {},
   "outputs": [],
   "source": []
  }
 ],
 "metadata": {
  "kernelspec": {
   "display_name": "Python 3",
   "language": "python",
   "name": "python3"
  },
  "language_info": {
   "codemirror_mode": {
    "name": "ipython",
    "version": 3
   },
   "file_extension": ".py",
   "mimetype": "text/x-python",
   "name": "python",
   "nbconvert_exporter": "python",
   "pygments_lexer": "ipython3",
   "version": "3.7.4"
  }
 },
 "nbformat": 4,
 "nbformat_minor": 2
}
